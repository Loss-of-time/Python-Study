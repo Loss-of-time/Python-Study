{
 "metadata": {
  "language_info": {
   "codemirror_mode": {
    "name": "ipython",
    "version": 3
   },
   "file_extension": ".py",
   "mimetype": "text/x-python",
   "name": "python",
   "nbconvert_exporter": "python",
   "pygments_lexer": "ipython3",
   "version": 3
  },
  "orig_nbformat": 2,
  "kernelspec": {
   "name": "python_defaultSpec_1596710452438",
   "display_name": "Python 3.8.2 64-bit"
  }
 },
 "nbformat": 4,
 "nbformat_minor": 2,
 "cells": [
  {
   "cell_type": "code",
   "execution_count": 2,
   "metadata": {},
   "outputs": [],
   "source": [
    "from sklearn.cluster import DBSCAN\n",
    "import numpy as np\n",
    "import pandas as pd "
   ]
  },
  {
   "cell_type": "code",
   "execution_count": 3,
   "metadata": {},
   "outputs": [
    {
     "output_type": "execute_result",
     "data": {
      "text/plain": "                           Unnamed: 0       Unnamed: 1    Unnamed: 2  \\\n0    2c929293466b97a6014754607e457d68       U201215025  A417314EEA7B   \n1    2c929293466b97a60147546099a57d81       U201116197  F0DEF1C78366   \n2    2c929293466b97a60147546099fa7d86       M201373803  88539523E88D   \n3    2c929293466b97a6014754609a137d88       M201370611  F0DEF167324F   \n4    2c929293466b97a601475460ab577d99       U201112081  B888E3813D3C   \n..                                ...              ...           ...   \n284  2c929293466b97a601475645b36d4b85       M201372774  68DFDD6703AB   \n285  2c929293466b97a60147564531de4abf       D201377117  041BBA75CF7A   \n286  2c929293466b97a6014756454e814ae5       U201013575  68DFDD27E77D   \n287  2c929293466b97a60147564551ba4aea  422123640321732  3CDFBD175878   \n288  2c929293466b97a601475645551d4af3       U201014641  002427FE3712   \n\n         Unnamed: 3                     Unnamed: 4  \\\n0       10.12.49.26  2014-07-20 22:44:18.540000000   \n1      222.20.71.38  2014-07-20 12:14:21.380000000   \n2      10.12.59.230  2014-07-20 22:56:41.593000000   \n3    218.197.241.94  2014-07-20 23:19:30.930000000   \n4     218.197.229.5  2014-07-20 16:51:56.657000000   \n..              ...                            ...   \n284    10.10.194.32  2014-07-21 07:55:08.247000000   \n285    10.10.24.154  2014-07-21 07:47:43.700000000   \n286     10.12.63.48  2014-07-21 07:45:42.407000000   \n287    10.12.85.159  2014-07-21 08:05:49.327000000   \n288         0.0.0.0  2014-07-21 08:14:29.287000000   \n\n                        Unnamed: 5  Unnamed: 6  Unnamed: 7 Unnamed: 8  \\\n0    2014-07-20 23:10:16.540000000        1558          15  本科生动态IP模版   \n1    2014-07-20 23:25:22.380000000       40261           1  本科生动态IP模版   \n2    2014-07-20 23:25:22.593000000        1721          15  研究生动态IP模版   \n3    2014-07-20 23:25:21.930000000         351           1  研究生动态IP模版   \n4    2014-07-20 23:24:40.657000000       23564           1  本科生动态IP模版   \n..                             ...         ...         ...        ...   \n284  2014-07-21 08:00:14.247000000         306          15  研究生动态IP模版   \n285  2014-07-21 08:14:41.700000000        1618          15  研究生动态IP模版   \n286  2014-07-21 08:14:48.407000000        1746          15  本科生动态IP模版   \n287  2014-07-21 08:14:49.273000000         540          15  本科生动态IP模版   \n288  2014-07-21 08:14:49.287000000          20           1  本科生动态IP模版   \n\n    Unnamed: 9 Unnamed: 10  \n0      100元每半年    internet  \n1        20元每月    internet  \n2           计天    internet  \n3        20元包月    internet  \n4         1元每天    internet  \n..         ...         ...  \n284      20元包月    internet  \n285         计天    internet  \n286       5元每周    internet  \n287      20元每月    internet  \n288    100元每半年    internet  \n\n[289 rows x 11 columns]",
      "text/html": "<div>\n<style scoped>\n    .dataframe tbody tr th:only-of-type {\n        vertical-align: middle;\n    }\n\n    .dataframe tbody tr th {\n        vertical-align: top;\n    }\n\n    .dataframe thead th {\n        text-align: right;\n    }\n</style>\n<table border=\"1\" class=\"dataframe\">\n  <thead>\n    <tr style=\"text-align: right;\">\n      <th></th>\n      <th>Unnamed: 0</th>\n      <th>Unnamed: 1</th>\n      <th>Unnamed: 2</th>\n      <th>Unnamed: 3</th>\n      <th>Unnamed: 4</th>\n      <th>Unnamed: 5</th>\n      <th>Unnamed: 6</th>\n      <th>Unnamed: 7</th>\n      <th>Unnamed: 8</th>\n      <th>Unnamed: 9</th>\n      <th>Unnamed: 10</th>\n    </tr>\n  </thead>\n  <tbody>\n    <tr>\n      <th>0</th>\n      <td>2c929293466b97a6014754607e457d68</td>\n      <td>U201215025</td>\n      <td>A417314EEA7B</td>\n      <td>10.12.49.26</td>\n      <td>2014-07-20 22:44:18.540000000</td>\n      <td>2014-07-20 23:10:16.540000000</td>\n      <td>1558</td>\n      <td>15</td>\n      <td>本科生动态IP模版</td>\n      <td>100元每半年</td>\n      <td>internet</td>\n    </tr>\n    <tr>\n      <th>1</th>\n      <td>2c929293466b97a60147546099a57d81</td>\n      <td>U201116197</td>\n      <td>F0DEF1C78366</td>\n      <td>222.20.71.38</td>\n      <td>2014-07-20 12:14:21.380000000</td>\n      <td>2014-07-20 23:25:22.380000000</td>\n      <td>40261</td>\n      <td>1</td>\n      <td>本科生动态IP模版</td>\n      <td>20元每月</td>\n      <td>internet</td>\n    </tr>\n    <tr>\n      <th>2</th>\n      <td>2c929293466b97a60147546099fa7d86</td>\n      <td>M201373803</td>\n      <td>88539523E88D</td>\n      <td>10.12.59.230</td>\n      <td>2014-07-20 22:56:41.593000000</td>\n      <td>2014-07-20 23:25:22.593000000</td>\n      <td>1721</td>\n      <td>15</td>\n      <td>研究生动态IP模版</td>\n      <td>计天</td>\n      <td>internet</td>\n    </tr>\n    <tr>\n      <th>3</th>\n      <td>2c929293466b97a6014754609a137d88</td>\n      <td>M201370611</td>\n      <td>F0DEF167324F</td>\n      <td>218.197.241.94</td>\n      <td>2014-07-20 23:19:30.930000000</td>\n      <td>2014-07-20 23:25:21.930000000</td>\n      <td>351</td>\n      <td>1</td>\n      <td>研究生动态IP模版</td>\n      <td>20元包月</td>\n      <td>internet</td>\n    </tr>\n    <tr>\n      <th>4</th>\n      <td>2c929293466b97a601475460ab577d99</td>\n      <td>U201112081</td>\n      <td>B888E3813D3C</td>\n      <td>218.197.229.5</td>\n      <td>2014-07-20 16:51:56.657000000</td>\n      <td>2014-07-20 23:24:40.657000000</td>\n      <td>23564</td>\n      <td>1</td>\n      <td>本科生动态IP模版</td>\n      <td>1元每天</td>\n      <td>internet</td>\n    </tr>\n    <tr>\n      <th>...</th>\n      <td>...</td>\n      <td>...</td>\n      <td>...</td>\n      <td>...</td>\n      <td>...</td>\n      <td>...</td>\n      <td>...</td>\n      <td>...</td>\n      <td>...</td>\n      <td>...</td>\n      <td>...</td>\n    </tr>\n    <tr>\n      <th>284</th>\n      <td>2c929293466b97a601475645b36d4b85</td>\n      <td>M201372774</td>\n      <td>68DFDD6703AB</td>\n      <td>10.10.194.32</td>\n      <td>2014-07-21 07:55:08.247000000</td>\n      <td>2014-07-21 08:00:14.247000000</td>\n      <td>306</td>\n      <td>15</td>\n      <td>研究生动态IP模版</td>\n      <td>20元包月</td>\n      <td>internet</td>\n    </tr>\n    <tr>\n      <th>285</th>\n      <td>2c929293466b97a60147564531de4abf</td>\n      <td>D201377117</td>\n      <td>041BBA75CF7A</td>\n      <td>10.10.24.154</td>\n      <td>2014-07-21 07:47:43.700000000</td>\n      <td>2014-07-21 08:14:41.700000000</td>\n      <td>1618</td>\n      <td>15</td>\n      <td>研究生动态IP模版</td>\n      <td>计天</td>\n      <td>internet</td>\n    </tr>\n    <tr>\n      <th>286</th>\n      <td>2c929293466b97a6014756454e814ae5</td>\n      <td>U201013575</td>\n      <td>68DFDD27E77D</td>\n      <td>10.12.63.48</td>\n      <td>2014-07-21 07:45:42.407000000</td>\n      <td>2014-07-21 08:14:48.407000000</td>\n      <td>1746</td>\n      <td>15</td>\n      <td>本科生动态IP模版</td>\n      <td>5元每周</td>\n      <td>internet</td>\n    </tr>\n    <tr>\n      <th>287</th>\n      <td>2c929293466b97a60147564551ba4aea</td>\n      <td>422123640321732</td>\n      <td>3CDFBD175878</td>\n      <td>10.12.85.159</td>\n      <td>2014-07-21 08:05:49.327000000</td>\n      <td>2014-07-21 08:14:49.273000000</td>\n      <td>540</td>\n      <td>15</td>\n      <td>本科生动态IP模版</td>\n      <td>20元每月</td>\n      <td>internet</td>\n    </tr>\n    <tr>\n      <th>288</th>\n      <td>2c929293466b97a601475645551d4af3</td>\n      <td>U201014641</td>\n      <td>002427FE3712</td>\n      <td>0.0.0.0</td>\n      <td>2014-07-21 08:14:29.287000000</td>\n      <td>2014-07-21 08:14:49.287000000</td>\n      <td>20</td>\n      <td>1</td>\n      <td>本科生动态IP模版</td>\n      <td>100元每半年</td>\n      <td>internet</td>\n    </tr>\n  </tbody>\n</table>\n<p>289 rows × 11 columns</p>\n</div>"
     },
     "metadata": {},
     "execution_count": 3
    }
   ],
   "source": [
    "dataSets = pd.read_csv(r'lib\\data\\学生月上网时间分布-TestData.csv')\n",
    "dataSets"
   ]
  },
  {
   "cell_type": "code",
   "execution_count": 4,
   "metadata": {
    "tags": []
   },
   "outputs": [],
   "source": [
    "time = dataSets.iloc[1:,6:7]\n",
    "time = time.values"
   ]
  },
  {
   "cell_type": "code",
   "execution_count": 5,
   "metadata": {},
   "outputs": [
    {
     "output_type": "execute_result",
     "data": {
      "text/plain": "          Unnamed: 1\n0         U201215025\n1         U201116197\n2         M201373803\n3         M201370611\n4         U201112081\n..               ...\n284       M201372774\n285       D201377117\n286       U201013575\n287  422123640321732\n288       U201014641\n\n[289 rows x 1 columns]",
      "text/html": "<div>\n<style scoped>\n    .dataframe tbody tr th:only-of-type {\n        vertical-align: middle;\n    }\n\n    .dataframe tbody tr th {\n        vertical-align: top;\n    }\n\n    .dataframe thead th {\n        text-align: right;\n    }\n</style>\n<table border=\"1\" class=\"dataframe\">\n  <thead>\n    <tr style=\"text-align: right;\">\n      <th></th>\n      <th>Unnamed: 1</th>\n    </tr>\n  </thead>\n  <tbody>\n    <tr>\n      <th>0</th>\n      <td>U201215025</td>\n    </tr>\n    <tr>\n      <th>1</th>\n      <td>U201116197</td>\n    </tr>\n    <tr>\n      <th>2</th>\n      <td>M201373803</td>\n    </tr>\n    <tr>\n      <th>3</th>\n      <td>M201370611</td>\n    </tr>\n    <tr>\n      <th>4</th>\n      <td>U201112081</td>\n    </tr>\n    <tr>\n      <th>...</th>\n      <td>...</td>\n    </tr>\n    <tr>\n      <th>284</th>\n      <td>M201372774</td>\n    </tr>\n    <tr>\n      <th>285</th>\n      <td>D201377117</td>\n    </tr>\n    <tr>\n      <th>286</th>\n      <td>U201013575</td>\n    </tr>\n    <tr>\n      <th>287</th>\n      <td>422123640321732</td>\n    </tr>\n    <tr>\n      <th>288</th>\n      <td>U201014641</td>\n    </tr>\n  </tbody>\n</table>\n<p>289 rows × 1 columns</p>\n</div>"
     },
     "metadata": {},
     "execution_count": 5
    }
   ],
   "source": [
    "uId = dataSets.iloc[:,1:2]\n",
    "uId"
   ]
  },
  {
   "cell_type": "code",
   "execution_count": 24,
   "metadata": {},
   "outputs": [
    {
     "output_type": "execute_result",
     "data": {
      "text/plain": "array([ 0,  1,  1,  2,  1,  1,  1,  1,  3,  1,  1,  1,  1,  1,  4,  5,  1,\n        6,  1,  1,  7,  1,  1,  8,  9,  1,  1,  1,  1,  1,  1, 10,  1,  1,\n        1,  1,  1,  1,  1, 11,  1,  1,  1,  1,  1,  1, 12,  1,  1,  1, 13,\n        1, 14,  1,  1,  1,  1,  1,  1,  1, 15, 12,  6,  1,  1,  1,  1, 12,\n        1,  1,  1,  1,  1,  1,  1, 16,  1,  1,  1,  1,  1,  1,  1, 17,  1,\n        1,  6, 18,  1, 19, 11,  1, 20,  1,  2,  1,  1,  1, 21, 22,  1,  1,\n        1,  1,  1,  1,  1,  1,  1,  1,  1,  1,  1,  1,  1,  1,  5,  1,  1,\n        1, 16,  1,  1,  1,  1,  1,  1,  1, 20, 23,  4,  1,  1, 24,  1,  1,\n        1,  1,  1, 25,  5,  1,  1,  1,  1,  1,  1,  1,  1,  1,  1,  1,  1,\n        1,  1,  1,  1,  1,  1,  1,  1,  1,  1,  1,  1,  1,  1,  1,  1,  1,\n        1,  1, 26,  1,  1,  1,  1, 27, 28,  1,  1,  1,  1,  1, 12,  1,  1,\n       29, 30,  1,  1,  1, 19,  1,  1,  1,  4,  1,  1,  1,  1,  6,  1, 19,\n        1,  1,  1,  6,  1,  1,  1,  1, 31, 32,  1,  1,  1,  1,  0,  1,  1,\n        1, 33,  1,  1,  1,  1,  1,  1, 23, 13,  1,  1,  8,  1,  1,  1,  1,\n        1,  1,  1, 34,  1, 33,  1,  1,  1,  1,  1,  1,  1,  1, 33,  1,  1,\n        1,  1,  1,  1,  1, 10,  1,  1, 33,  1,  1,  1, 16,  1,  1,  1,  1,\n       13,  1,  1,  4, 13,  1,  1,  1,  1,  1,  1,  1,  1,  1,  1,  1],\n      dtype=int64)"
     },
     "metadata": {},
     "execution_count": 24
    }
   ],
   "source": [
    "db = DBSCAN(eps=500,min_samples=1).fit(time)\n",
    "db.labels_"
   ]
  }
 ]
}